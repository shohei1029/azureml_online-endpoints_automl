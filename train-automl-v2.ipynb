{
  "cells": [
    {
      "cell_type": "markdown",
      "metadata": {},
      "source": [
        "# AutoML classification with SDK v2\n",
        "## Memo\n",
        "- Didn't register data into Azure ML WS, just used Input()\n",
        "## Progress\n",
        "入力データセットのinput指定方法がよくわかっていない。サンプルノートブックだとフォルダまでしか指定してない？だとするとどうやってデータセットを指定？？"
      ]
    },
    {
      "cell_type": "code",
      "execution_count": 4,
      "metadata": {
        "jupyter": {
          "outputs_hidden": false,
          "source_hidden": false
        },
        "nteract": {
          "transient": {
            "deleting": false
          }
        }
      },
      "outputs": [
        {
          "name": "stdout",
          "output_type": "stream",
          "text": [
            "Name: azure-ai-ml\n",
            "Version: 0.1.0b3\n",
            "Summary: Microsoft Azure Machine Learning Client Library for Python\n",
            "Home-page: https://github.com/Azure/azure-sdk-for-python\n",
            "Author: Microsoft Corporation\n",
            "Author-email: azuremlsdk@microsoft.com\n",
            "License: MIT License\n",
            "Location: /anaconda/envs/azureml_py38/lib/python3.8/site-packages\n",
            "Requires: docker, applicationinsights, tqdm, marshmallow, msrest, isodate, azure-storage-blob, azure-identity, azure-common, pathspec, azure-storage-file-share, colorama, azure-core, jsonschema, pydash, typing-extensions, pyjwt, pyyaml, azure-mgmt-core\n",
            "Required-by: \n"
          ]
        }
      ],
      "source": [
        "# test\n",
        "## install Python SDK v2\n",
        "# !pip install --pre azure-ai-ml\n",
        "## check SDK version\n",
        "# !pip show azure-ai-ml\n",
        "## upgrade if necessary \n",
        "# !pip install --pre --upgrade azure-ai-ml"
      ]
    },
    {
      "cell_type": "code",
      "execution_count": 2,
      "metadata": {},
      "outputs": [
        {
          "name": "stderr",
          "output_type": "stream",
          "text": [
            "Found the config file in: ./config.json\n"
          ]
        },
        {
          "data": {
            "text/plain": [
              "{'Workspace': 'ml-lab',\n",
              " 'Subscription ID': 'f57ce3c6-5c6f-4f1e-8cba-b782d8974590',\n",
              " 'Resource Group': 'rg-aml',\n",
              " 'Location': 'westus2',\n",
              " 'Storage Account': 'mllab6442967193'}"
            ]
          },
          "execution_count": 2,
          "metadata": {},
          "output_type": "execute_result"
        }
      ],
      "source": [
        "#import required libraries\n",
        "from azure.ai.ml import MLClient\n",
        "from azure.identity import DefaultAzureCredential, InteractiveBrowserCredential\n",
        "\n",
        "try:\n",
        "    credential = DefaultAzureCredential()\n",
        "    # Check if given credential can get token successfully.\n",
        "    credential.get_token(\"https://management.azure.com/.default\")\n",
        "except Exception as ex:\n",
        "    # Fall back to InteractiveBrowserCredential in case DefaultAzureCredential not work\n",
        "    # This will open a browser page for\n",
        "    credential = InteractiveBrowserCredential()\n",
        "\n",
        "ml_client = MLClient.from_config(credential=credential)\n",
        "\n",
        "workspace = ml_client.workspaces.get(name=ml_client.workspace_name)\n",
        "\n",
        "output = {}\n",
        "output[\"Workspace\"] = ml_client.workspace_name\n",
        "output[\"Subscription ID\"] = ml_client.connections._subscription_id\n",
        "output[\"Resource Group\"] = workspace.resource_group\n",
        "output[\"Location\"] = workspace.location\n",
        "output[\"Storage Account\"] = workspace.storage_account.split(\"/\")[-1]\n",
        "output"
      ]
    },
    {
      "cell_type": "code",
      "execution_count": 3,
      "metadata": {
        "jupyter": {
          "outputs_hidden": false,
          "source_hidden": false
        },
        "nteract": {
          "transient": {
            "deleting": false
          }
        }
      },
      "outputs": [],
      "source": [
        "# Compute resources\n",
        "from azure.ai.ml.entities import AmlCompute\n",
        "\n",
        "# specify aml compute name.\n",
        "cpu_compute_target = \"cpu-cluster\"\n",
        "\n",
        "try:\n",
        "    ml_client.compute.get(cpu_compute_target)\n",
        "except Exception:\n",
        "    print(\"Creating a new cpu compute target...\")\n",
        "    compute = AmlCompute(\n",
        "        name=cpu_compute_target, \n",
        "        size=\"Standard_DS3_v2\", \n",
        "        min_instances=0, \n",
        "        max_instances=4,\n",
        "        tier=\"LowPriority\",\n",
        "        idle_time_before_scale_down=300\n",
        "    )\n",
        "    ml_client.compute.begin_create_or_update(compute)"
      ]
    },
    {
      "cell_type": "code",
      "execution_count": 6,
      "metadata": {},
      "outputs": [],
      "source": [
        "# Prepare data\n",
        "from azure.ai.ml import Input\n",
        "from azure.ai.ml.entities import Data\n",
        "from azure.ai.ml.constants import AssetTypes\n",
        "\n",
        "# Create MLTables for training dataset\n",
        "# 冗長かも。\n",
        "try:\n",
        "    registered_data_asset = ml_client.data.get(name='titanic-mltable-train', version=\"1\")\n",
        "    my_training_data_input = Input(\n",
        "    type=AssetTypes.MLTABLE, \n",
        "    path=registered_data_asset.id\n",
        "    )\n",
        "except Exception:\n",
        "    my_data = Data(\n",
        "        type=AssetTypes.MLTABLE, \n",
        "        path=\"./data/training\",\n",
        "        name=\"titanic-mltable-train\",\n",
        "        description=\"Titanic data for training, created by SDK v2\",\n",
        "    )\n",
        "\n",
        "    ml_client.data.create_or_update(my_data)\n",
        "\n",
        "    registered_data_asset = ml_client.data.get(name='titanic-mltable-train') #もう一回名前ベースで取得しなくても、idゲットするメソッドありそう\n",
        "    my_training_data_input = Input(\n",
        "    type=AssetTypes.MLTABLE, \n",
        "    path=registered_data_asset.id\n",
        "    )\n"
      ]
    },
    {
      "cell_type": "code",
      "execution_count": 7,
      "metadata": {},
      "outputs": [
        {
          "name": "stderr",
          "output_type": "stream",
          "text": [
            "Class ClassificationJob: This is an experimental class, and may change at any time. Please see https://aka.ms/azuremlexperimental for more information.\n"
          ]
        }
      ],
      "source": [
        "# Configure AutoML classification job\n",
        "from azure.ai.ml import automl\n",
        "\n",
        "# General job parameters\n",
        "compute_name = cpu_compute_target\n",
        "max_trials = 5\n",
        "exp_name = \"dpv2_classification_titanic\"\n",
        "\n",
        "# Create the AutoML classification job with the related factory-function.\n",
        "\n",
        "classification_job = automl.classification(\n",
        "    compute=compute_name,\n",
        "    experiment_name=exp_name,\n",
        "    training_data=my_training_data_input,\n",
        "    target_column_name=\"Survived\",\n",
        "    primary_metric=\"AUC_weighted\",\n",
        "    n_cross_validations=5,\n",
        "    enable_model_explainability=True,\n",
        "    tags={\"dpv2\": \"SDKv2\"},\n",
        ")\n",
        "\n",
        "# Limits are all optional\n",
        "classification_job.set_limits(\n",
        "    timeout_minutes=600,\n",
        "    trial_timeout_minutes=20,\n",
        "    max_trials=max_trials,\n",
        "    # max_concurrent_trials = 4,\n",
        "    # max_cores_per_trial: -1,\n",
        "    enable_early_termination=True,\n",
        ")\n",
        "\n",
        "# # Training properties are optional\n",
        "# classification_job.set_training(\n",
        "#     blocked_training_algorithms=[\"LogisticRegression\"],\n",
        "#     enable_onnx_compatible_models=True,\n",
        "# )"
      ]
    },
    {
      "cell_type": "code",
      "execution_count": 8,
      "metadata": {},
      "outputs": [
        {
          "name": "stdout",
          "output_type": "stream",
          "text": [
            "Created job: ClassificationJob({'log_verbosity': <LogVerbosity.INFO: 'Info'>, 'task_type': <TaskType.CLASSIFICATION: 'Classification'>, 'environment_id': None, 'environment_variables': None, 'outputs': {}, 'type': 'automl', 'status': 'NotStarted', 'log_files': None, 'name': 'heroic_shark_g9qwwvcqd1', 'description': None, 'tags': {'dpv2': 'SDKv2'}, 'properties': {}, 'id': '/subscriptions/f57ce3c6-5c6f-4f1e-8cba-b782d8974590/resourceGroups/rg-aml/providers/Microsoft.MachineLearningServices/workspaces/ml-lab/jobs/heroic_shark_g9qwwvcqd1', 'base_path': './', 'creation_context': <azure.ai.ml._restclient.v2022_02_01_preview.models._models_py3.SystemData object at 0x7f783c030430>, 'serialize': <msrest.serialization.Serializer object at 0x7f783c1d4b50>, 'inputs': {}, 'display_name': 'heroic_shark_g9qwwvcqd1', 'experiment_name': 'dpv2_classification_titanic', 'compute': 'cpu-cluster', 'services': {'Tracking': <azure.ai.ml._restclient.v2022_02_01_preview.models._models_py3.JobService object at 0x7f783c030310>, 'Studio': <azure.ai.ml._restclient.v2022_02_01_preview.models._models_py3.JobService object at 0x7f783c030250>}, 'resources': <azure.ai.ml._restclient.v2022_02_01_preview.models._models_py3.ResourceConfiguration object at 0x7f783c0302b0>, 'identity': None, 'data': <azure.ai.ml._restclient.v2022_02_01_preview.models._models_py3.TableVerticalDataSettings object at 0x7f783c030550>, 'featurization': None, 'limits': <azure.ai.ml.entities._job.automl.tabular.limit_settings.TabularLimitSettings object at 0x7f783dda4d30>, 'training': <azure.ai.ml.entities._job.automl.training_settings.ClassificationTrainingSettings object at 0x7f783d4787f0>, 'primary_metric': <ClassificationPrimaryMetrics.AUC_WEIGHTED: 'AUCWeighted'>})\n"
          ]
        },
        {
          "data": {
            "text/plain": [
              "'https://ml.azure.com/runs/heroic_shark_g9qwwvcqd1?wsid=/subscriptions/f57ce3c6-5c6f-4f1e-8cba-b782d8974590/resourcegroups/rg-aml/workspaces/ml-lab&tid=72f988bf-86f1-41af-91ab-2d7cd011db47'"
            ]
          },
          "execution_count": 8,
          "metadata": {},
          "output_type": "execute_result"
        }
      ],
      "source": [
        "# Submit the AutoML job (CDLTLL: Is it ml_client.create_or_update(classification_job))\n",
        "returned_job = ml_client.jobs.create_or_update(\n",
        "    classification_job\n",
        ")  # submit the job to the backend\n",
        "\n",
        "print(f\"Created job: {returned_job}\")\n",
        "\n",
        "# Get a URL for the status of the job\n",
        "returned_job.services[\"Studio\"].endpoint"
      ]
    },
    {
      "cell_type": "code",
      "execution_count": 9,
      "metadata": {},
      "outputs": [
        {
          "name": "stdout",
          "output_type": "stream",
          "text": [
            "RunId: heroic_shark_g9qwwvcqd1\n",
            "Web View: https://ml.azure.com/runs/heroic_shark_g9qwwvcqd1?wsid=/subscriptions/f57ce3c6-5c6f-4f1e-8cba-b782d8974590/resourcegroups/rg-aml/workspaces/ml-lab\n"
          ]
        }
      ],
      "source": [
        "ml_client.jobs.stream(returned_job.name)\n",
        "print(returned_job.name)"
      ]
    },
    {
      "cell_type": "code",
      "execution_count": 10,
      "metadata": {
        "jupyter": {
          "outputs_hidden": false,
          "source_hidden": false
        },
        "nteract": {
          "transient": {
            "deleting": false
          }
        }
      },
      "outputs": [],
      "source": [
        "## for debug\n",
        "# for x in dir(workspace):\n",
        "#     print(x, ':', type(eval(\"workspace.\"+x)))"
      ]
    },
    {
      "cell_type": "code",
      "execution_count": null,
      "metadata": {},
      "outputs": [],
      "source": []
    },
    {
      "cell_type": "markdown",
      "metadata": {
        "nteract": {
          "transient": {
            "deleting": false
          }
        }
      },
      "source": [
        "# Refs\n",
        "## Docs\n",
        "[SDK v2 (プレビュー) を使ってデータを操作する - Azure Machine Learning | Microsoft Docs](https://docs.microsoft.com/ja-jp/azure/machine-learning/how-to-use-data?tabs=use-local%2Crw-blob)\n",
        "\n",
        "## Notebooks\n",
        "[SDK v2 exampless](https://github.com/Azure/azureml-examples/tree/sdk-preview/sdk)  \n",
        "[Workspace configuration](https://github.com/Azure/azureml-examples/blob/sdk-preview/sdk/jobs/configuration.ipynb)  \n",
        "[Training](https://github.com/Azure/azureml-examples/blob/sdk-preview/sdk/jobs/automl-standalone-jobs/automl-classification-task-bankmarketing/automl-classification-task-bankmarketing.ipynb)  \n",
        "[MLTable](https://github.com/Azure/azureml-examples/blob/samuel100/mltable/sdk/assets/data/working_with_mltable.ipynb)  \n",
        "\n",
        "## SDK v2 references\n",
        "[azure.ai.ml package - Azure Machine Learning Python | Microsoft Docs](https://docs.microsoft.com/ja-jp/python/api/azure-ai-ml/azure.ai.ml?view=azure-ml-py)  \n",
        "[azure.ai.ml.entities.AmlCompute class - Azure Machine Learning Python | Microsoft Docs](https://docs.microsoft.com/ja-jp/python/api/azure-ai-ml/azure.ai.ml.entities.amlcompute?view=azure-ml-py)  "
      ]
    }
  ],
  "metadata": {
    "kernel_info": {
      "name": "python38-azureml"
    },
    "kernelspec": {
      "display_name": "Python 3.8 - AzureML",
      "language": "python",
      "name": "python38-azureml"
    },
    "language_info": {
      "codemirror_mode": {
        "name": "ipython",
        "version": 3
      },
      "file_extension": ".py",
      "mimetype": "text/x-python",
      "name": "python",
      "nbconvert_exporter": "python",
      "pygments_lexer": "ipython3",
      "version": "3.8.5"
    },
    "nteract": {
      "version": "nteract-front-end@1.0.0"
    }
  },
  "nbformat": 4,
  "nbformat_minor": 0
}
